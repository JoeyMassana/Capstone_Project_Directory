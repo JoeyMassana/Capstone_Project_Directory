{
 "cells": [
  {
   "cell_type": "code",
   "execution_count": 188,
   "metadata": {},
   "outputs": [],
   "source": [
    "# Import packages\n",
    "\n",
    "import streamlit as st\n",
    "import pandas as pd\n",
    "import numpy as np\n",
    "import seaborn as sns\n",
    "import matplotlib.pyplot as plt"
   ]
  },
  {
   "cell_type": "markdown",
   "metadata": {},
   "source": [
    "Write code to start Streamlit web app\n",
    "\n",
    "st.write(\"Hello world\")"
   ]
  },
  {
   "cell_type": "markdown",
   "metadata": {},
   "source": [
    "Figured out that Streamlit requires a .py (python) file, not .ipynb (notebook)."
   ]
  },
  {
   "cell_type": "code",
   "execution_count": 189,
   "metadata": {},
   "outputs": [],
   "source": [
    "# Launched Streamlit with Employee.csv using command \"Streamlit run app.py\"\n",
    "\n",
    "pr_df = pd.read_csv('PerformanceRating.csv')\n",
    "st.write(pr_df)\n"
   ]
  },
  {
   "cell_type": "markdown",
   "metadata": {},
   "source": [
    "Checked for null values using df.info(). There are 0 missing values."
   ]
  },
  {
   "cell_type": "code",
   "execution_count": 190,
   "metadata": {},
   "outputs": [
    {
     "name": "stdout",
     "output_type": "stream",
     "text": [
      "<class 'pandas.core.frame.DataFrame'>\n",
      "RangeIndex: 6709 entries, 0 to 6708\n",
      "Data columns (total 11 columns):\n",
      " #   Column                           Non-Null Count  Dtype \n",
      "---  ------                           --------------  ----- \n",
      " 0   PerformanceID                    6709 non-null   object\n",
      " 1   EmployeeID                       6709 non-null   object\n",
      " 2   ReviewDate                       6709 non-null   object\n",
      " 3   EnvironmentSatisfaction          6709 non-null   int64 \n",
      " 4   JobSatisfaction                  6709 non-null   int64 \n",
      " 5   RelationshipSatisfaction         6709 non-null   int64 \n",
      " 6   TrainingOpportunitiesWithinYear  6709 non-null   int64 \n",
      " 7   TrainingOpportunitiesTaken       6709 non-null   int64 \n",
      " 8   WorkLifeBalance                  6709 non-null   int64 \n",
      " 9   SelfRating                       6709 non-null   int64 \n",
      " 10  ManagerRating                    6709 non-null   int64 \n",
      "dtypes: int64(8), object(3)\n",
      "memory usage: 576.7+ KB\n"
     ]
    }
   ],
   "source": [
    "pr_df.info()"
   ]
  },
  {
   "cell_type": "markdown",
   "metadata": {},
   "source": [
    "Defined DataFrame for PerformanceRating.csv, and checked for null values. "
   ]
  },
  {
   "cell_type": "code",
   "execution_count": 191,
   "metadata": {},
   "outputs": [
    {
     "name": "stdout",
     "output_type": "stream",
     "text": [
      "<class 'pandas.core.frame.DataFrame'>\n",
      "RangeIndex: 1470 entries, 0 to 1469\n",
      "Data columns (total 23 columns):\n",
      " #   Column                   Non-Null Count  Dtype \n",
      "---  ------                   --------------  ----- \n",
      " 0   EmployeeID               1470 non-null   object\n",
      " 1   FirstName                1470 non-null   object\n",
      " 2   LastName                 1470 non-null   object\n",
      " 3   Gender                   1470 non-null   object\n",
      " 4   Age                      1470 non-null   int64 \n",
      " 5   BusinessTravel           1470 non-null   object\n",
      " 6   Department               1470 non-null   object\n",
      " 7   DistanceFromHome (KM)    1470 non-null   int64 \n",
      " 8   State                    1470 non-null   object\n",
      " 9   Ethnicity                1470 non-null   object\n",
      " 10  Education                1470 non-null   int64 \n",
      " 11  EducationField           1470 non-null   object\n",
      " 12  JobRole                  1470 non-null   object\n",
      " 13  MaritalStatus            1470 non-null   object\n",
      " 14  Salary                   1470 non-null   int64 \n",
      " 15  StockOptionLevel         1470 non-null   int64 \n",
      " 16  OverTime                 1470 non-null   object\n",
      " 17  HireDate                 1470 non-null   object\n",
      " 18  Attrition                1470 non-null   object\n",
      " 19  YearsAtCompany           1470 non-null   int64 \n",
      " 20  YearsInMostRecentRole    1470 non-null   int64 \n",
      " 21  YearsSinceLastPromotion  1470 non-null   int64 \n",
      " 22  YearsWithCurrManager     1470 non-null   int64 \n",
      "dtypes: int64(9), object(14)\n",
      "memory usage: 264.3+ KB\n"
     ]
    },
    {
     "data": {
      "text/html": [
       "<div>\n",
       "<style scoped>\n",
       "    .dataframe tbody tr th:only-of-type {\n",
       "        vertical-align: middle;\n",
       "    }\n",
       "\n",
       "    .dataframe tbody tr th {\n",
       "        vertical-align: top;\n",
       "    }\n",
       "\n",
       "    .dataframe thead th {\n",
       "        text-align: right;\n",
       "    }\n",
       "</style>\n",
       "<table border=\"1\" class=\"dataframe\">\n",
       "  <thead>\n",
       "    <tr style=\"text-align: right;\">\n",
       "      <th></th>\n",
       "      <th>EmployeeID</th>\n",
       "      <th>FirstName</th>\n",
       "      <th>LastName</th>\n",
       "      <th>Gender</th>\n",
       "      <th>Age</th>\n",
       "      <th>BusinessTravel</th>\n",
       "      <th>Department</th>\n",
       "      <th>DistanceFromHome (KM)</th>\n",
       "      <th>State</th>\n",
       "      <th>Ethnicity</th>\n",
       "      <th>...</th>\n",
       "      <th>MaritalStatus</th>\n",
       "      <th>Salary</th>\n",
       "      <th>StockOptionLevel</th>\n",
       "      <th>OverTime</th>\n",
       "      <th>HireDate</th>\n",
       "      <th>Attrition</th>\n",
       "      <th>YearsAtCompany</th>\n",
       "      <th>YearsInMostRecentRole</th>\n",
       "      <th>YearsSinceLastPromotion</th>\n",
       "      <th>YearsWithCurrManager</th>\n",
       "    </tr>\n",
       "  </thead>\n",
       "  <tbody>\n",
       "    <tr>\n",
       "      <th>0</th>\n",
       "      <td>3012-1A41</td>\n",
       "      <td>Leonelle</td>\n",
       "      <td>Simco</td>\n",
       "      <td>Female</td>\n",
       "      <td>30</td>\n",
       "      <td>Some Travel</td>\n",
       "      <td>Sales</td>\n",
       "      <td>27</td>\n",
       "      <td>IL</td>\n",
       "      <td>White</td>\n",
       "      <td>...</td>\n",
       "      <td>Divorced</td>\n",
       "      <td>102059</td>\n",
       "      <td>1</td>\n",
       "      <td>No</td>\n",
       "      <td>2012-01-03</td>\n",
       "      <td>No</td>\n",
       "      <td>10</td>\n",
       "      <td>4</td>\n",
       "      <td>9</td>\n",
       "      <td>7</td>\n",
       "    </tr>\n",
       "    <tr>\n",
       "      <th>1</th>\n",
       "      <td>CBCB-9C9D</td>\n",
       "      <td>Leonerd</td>\n",
       "      <td>Aland</td>\n",
       "      <td>Male</td>\n",
       "      <td>38</td>\n",
       "      <td>Some Travel</td>\n",
       "      <td>Sales</td>\n",
       "      <td>23</td>\n",
       "      <td>CA</td>\n",
       "      <td>White</td>\n",
       "      <td>...</td>\n",
       "      <td>Single</td>\n",
       "      <td>157718</td>\n",
       "      <td>0</td>\n",
       "      <td>Yes</td>\n",
       "      <td>2012-01-04</td>\n",
       "      <td>No</td>\n",
       "      <td>10</td>\n",
       "      <td>6</td>\n",
       "      <td>10</td>\n",
       "      <td>0</td>\n",
       "    </tr>\n",
       "    <tr>\n",
       "      <th>2</th>\n",
       "      <td>95D7-1CE9</td>\n",
       "      <td>Ahmed</td>\n",
       "      <td>Sykes</td>\n",
       "      <td>Male</td>\n",
       "      <td>43</td>\n",
       "      <td>Some Travel</td>\n",
       "      <td>Human Resources</td>\n",
       "      <td>29</td>\n",
       "      <td>CA</td>\n",
       "      <td>Asian or Asian American</td>\n",
       "      <td>...</td>\n",
       "      <td>Married</td>\n",
       "      <td>309964</td>\n",
       "      <td>1</td>\n",
       "      <td>No</td>\n",
       "      <td>2012-01-04</td>\n",
       "      <td>No</td>\n",
       "      <td>10</td>\n",
       "      <td>6</td>\n",
       "      <td>10</td>\n",
       "      <td>8</td>\n",
       "    </tr>\n",
       "    <tr>\n",
       "      <th>3</th>\n",
       "      <td>47A0-559B</td>\n",
       "      <td>Ermentrude</td>\n",
       "      <td>Berrie</td>\n",
       "      <td>Non-Binary</td>\n",
       "      <td>39</td>\n",
       "      <td>Some Travel</td>\n",
       "      <td>Technology</td>\n",
       "      <td>12</td>\n",
       "      <td>IL</td>\n",
       "      <td>White</td>\n",
       "      <td>...</td>\n",
       "      <td>Married</td>\n",
       "      <td>293132</td>\n",
       "      <td>0</td>\n",
       "      <td>No</td>\n",
       "      <td>2012-01-05</td>\n",
       "      <td>No</td>\n",
       "      <td>10</td>\n",
       "      <td>10</td>\n",
       "      <td>10</td>\n",
       "      <td>0</td>\n",
       "    </tr>\n",
       "    <tr>\n",
       "      <th>4</th>\n",
       "      <td>42CC-040A</td>\n",
       "      <td>Stace</td>\n",
       "      <td>Savege</td>\n",
       "      <td>Female</td>\n",
       "      <td>29</td>\n",
       "      <td>Some Travel</td>\n",
       "      <td>Human Resources</td>\n",
       "      <td>29</td>\n",
       "      <td>CA</td>\n",
       "      <td>White</td>\n",
       "      <td>...</td>\n",
       "      <td>Single</td>\n",
       "      <td>49606</td>\n",
       "      <td>0</td>\n",
       "      <td>No</td>\n",
       "      <td>2012-01-05</td>\n",
       "      <td>Yes</td>\n",
       "      <td>6</td>\n",
       "      <td>1</td>\n",
       "      <td>1</td>\n",
       "      <td>6</td>\n",
       "    </tr>\n",
       "  </tbody>\n",
       "</table>\n",
       "<p>5 rows × 23 columns</p>\n",
       "</div>"
      ],
      "text/plain": [
       "  EmployeeID   FirstName LastName      Gender  Age BusinessTravel  \\\n",
       "0  3012-1A41    Leonelle    Simco      Female   30    Some Travel   \n",
       "1  CBCB-9C9D     Leonerd    Aland        Male   38    Some Travel   \n",
       "2  95D7-1CE9       Ahmed    Sykes        Male   43    Some Travel   \n",
       "3  47A0-559B  Ermentrude   Berrie  Non-Binary   39    Some Travel   \n",
       "4  42CC-040A       Stace   Savege      Female   29    Some Travel   \n",
       "\n",
       "        Department  DistanceFromHome (KM) State                Ethnicity  ...  \\\n",
       "0            Sales                     27    IL                    White  ...   \n",
       "1            Sales                     23    CA                    White  ...   \n",
       "2  Human Resources                     29    CA  Asian or Asian American  ...   \n",
       "3       Technology                     12    IL                    White  ...   \n",
       "4  Human Resources                     29    CA                    White  ...   \n",
       "\n",
       "   MaritalStatus  Salary StockOptionLevel OverTime    HireDate  Attrition  \\\n",
       "0       Divorced  102059                1       No  2012-01-03         No   \n",
       "1         Single  157718                0      Yes  2012-01-04         No   \n",
       "2        Married  309964                1       No  2012-01-04         No   \n",
       "3        Married  293132                0       No  2012-01-05         No   \n",
       "4         Single   49606                0       No  2012-01-05        Yes   \n",
       "\n",
       "  YearsAtCompany YearsInMostRecentRole YearsSinceLastPromotion  \\\n",
       "0             10                     4                       9   \n",
       "1             10                     6                      10   \n",
       "2             10                     6                      10   \n",
       "3             10                    10                      10   \n",
       "4              6                     1                       1   \n",
       "\n",
       "   YearsWithCurrManager  \n",
       "0                     7  \n",
       "1                     0  \n",
       "2                     8  \n",
       "3                     0  \n",
       "4                     6  \n",
       "\n",
       "[5 rows x 23 columns]"
      ]
     },
     "execution_count": 191,
     "metadata": {},
     "output_type": "execute_result"
    }
   ],
   "source": [
    "emp_df = pd.read_csv('Employee.csv')\n",
    "emp_df.info()\n",
    "emp_df.head()"
   ]
  },
  {
   "cell_type": "markdown",
   "metadata": {},
   "source": [
    "Merging DataFrames Employee.csv and PerformanceRate.csv"
   ]
  },
  {
   "cell_type": "code",
   "execution_count": 192,
   "metadata": {},
   "outputs": [],
   "source": [
    "# Merge DataFrames\n",
    "merged_df = pr_df.merge(emp_df, how='outer', on='EmployeeID', left_on=None, right_on=None, left_index=False, right_index=False, sort=False, suffixes=('_x', '_y'), copy=None, indicator=False, validate=None)"
   ]
  },
  {
   "cell_type": "code",
   "execution_count": 193,
   "metadata": {},
   "outputs": [],
   "source": [
    "# Rename columns\n",
    "merged_df.rename(columns={'PerformanceID': 'Performance ID', 'EmployeeID': 'Employee ID', 'ReviewDate': 'Review Date', 'EnvironmentSatisfaction': 'Environment Satisfaction',\n",
    "                          'JobSatisfaction': 'Job Satisfaction', 'RelationshipSatisfaction': 'Relationship Satisfaction', 'TrainingOpportunitiesWithinYear': 'Training Opportunities With in Year',\n",
    "                          'TrainingOpportunitiesTaken': 'Training Opportunities Taken', 'WorkLifeBalance': 'Work-Life Balance', 'SelfRating': 'Self Rating', 'ManagerRating': 'Manager Rating',\n",
    "                          'FirstName': 'First Name', 'LastName': 'Last Name', 'BusinessTravel': 'Business Travel', 'DistanceFromHome (KM)': 'Distance From Home (KM)',\n",
    "                          'EducationField': 'Education Field', 'JobRole': 'Job Role', 'MaritalStatus': 'Marital Status', 'StockOptionLevel': 'Stock Option Level', 'OverTime': 'Over Time',\n",
    "                          'HireDate': 'Hire Date', 'YearsAtCompany': 'Years At Company', 'YearsInMostRecentRole': 'Years In Most Recent Role',\n",
    "                          'YearsSinceLastPromotion': 'Years Since Last Promotion','YearsWithCurrManager': 'Years With Current Manager'}, inplace=True)"
   ]
  },
  {
   "cell_type": "code",
   "execution_count": 194,
   "metadata": {},
   "outputs": [],
   "source": [
    "# Display DataFrame in Streamlit\n",
    "df = st.dataframe(merged_df)"
   ]
  },
  {
   "cell_type": "code",
   "execution_count": 195,
   "metadata": {},
   "outputs": [
    {
     "name": "stdout",
     "output_type": "stream",
     "text": [
      "<class 'pandas.core.frame.DataFrame'>\n",
      "RangeIndex: 6899 entries, 0 to 6898\n",
      "Data columns (total 33 columns):\n",
      " #   Column                               Non-Null Count  Dtype  \n",
      "---  ------                               --------------  -----  \n",
      " 0   Performance ID                       6709 non-null   object \n",
      " 1   Employee ID                          6899 non-null   object \n",
      " 2   Review Date                          6709 non-null   object \n",
      " 3   Environment Satisfaction             6709 non-null   float64\n",
      " 4   Job Satisfaction                     6709 non-null   float64\n",
      " 5   Relationship Satisfaction            6709 non-null   float64\n",
      " 6   Training Opportunities With in Year  6709 non-null   float64\n",
      " 7   Training Opportunities Taken         6709 non-null   float64\n",
      " 8   Work-Life Balance                    6709 non-null   float64\n",
      " 9   Self Rating                          6709 non-null   float64\n",
      " 10  Manager Rating                       6709 non-null   float64\n",
      " 11  First Name                           6899 non-null   object \n",
      " 12  Last Name                            6899 non-null   object \n",
      " 13  Gender                               6899 non-null   object \n",
      " 14  Age                                  6899 non-null   int64  \n",
      " 15  Business Travel                      6899 non-null   object \n",
      " 16  Department                           6899 non-null   object \n",
      " 17  Distance From Home (KM)              6899 non-null   int64  \n",
      " 18  State                                6899 non-null   object \n",
      " 19  Ethnicity                            6899 non-null   object \n",
      " 20  Education                            6899 non-null   int64  \n",
      " 21  Education Field                      6899 non-null   object \n",
      " 22  Job Role                             6899 non-null   object \n",
      " 23  Marital Status                       6899 non-null   object \n",
      " 24  Salary                               6899 non-null   int64  \n",
      " 25  Stock Option Level                   6899 non-null   int64  \n",
      " 26  Over Time                            6899 non-null   object \n",
      " 27  Hire Date                            6899 non-null   object \n",
      " 28  Attrition                            6899 non-null   object \n",
      " 29  Years At Company                     6899 non-null   int64  \n",
      " 30  Years In Most Recent Role            6899 non-null   int64  \n",
      " 31  Years Since Last Promotion           6899 non-null   int64  \n",
      " 32  Years With Current Manager           6899 non-null   int64  \n",
      "dtypes: float64(8), int64(9), object(16)\n",
      "memory usage: 1.7+ MB\n"
     ]
    },
    {
     "data": {
      "text/html": [
       "<div>\n",
       "<style scoped>\n",
       "    .dataframe tbody tr th:only-of-type {\n",
       "        vertical-align: middle;\n",
       "    }\n",
       "\n",
       "    .dataframe tbody tr th {\n",
       "        vertical-align: top;\n",
       "    }\n",
       "\n",
       "    .dataframe thead th {\n",
       "        text-align: right;\n",
       "    }\n",
       "</style>\n",
       "<table border=\"1\" class=\"dataframe\">\n",
       "  <thead>\n",
       "    <tr style=\"text-align: right;\">\n",
       "      <th></th>\n",
       "      <th>Performance ID</th>\n",
       "      <th>Employee ID</th>\n",
       "      <th>Review Date</th>\n",
       "      <th>Environment Satisfaction</th>\n",
       "      <th>Job Satisfaction</th>\n",
       "      <th>Relationship Satisfaction</th>\n",
       "      <th>Training Opportunities With in Year</th>\n",
       "      <th>Training Opportunities Taken</th>\n",
       "      <th>Work-Life Balance</th>\n",
       "      <th>Self Rating</th>\n",
       "      <th>...</th>\n",
       "      <th>Marital Status</th>\n",
       "      <th>Salary</th>\n",
       "      <th>Stock Option Level</th>\n",
       "      <th>Over Time</th>\n",
       "      <th>Hire Date</th>\n",
       "      <th>Attrition</th>\n",
       "      <th>Years At Company</th>\n",
       "      <th>Years In Most Recent Role</th>\n",
       "      <th>Years Since Last Promotion</th>\n",
       "      <th>Years With Current Manager</th>\n",
       "    </tr>\n",
       "  </thead>\n",
       "  <tbody>\n",
       "    <tr>\n",
       "      <th>0</th>\n",
       "      <td>NaN</td>\n",
       "      <td>001A-8F88</td>\n",
       "      <td>NaN</td>\n",
       "      <td>NaN</td>\n",
       "      <td>NaN</td>\n",
       "      <td>NaN</td>\n",
       "      <td>NaN</td>\n",
       "      <td>NaN</td>\n",
       "      <td>NaN</td>\n",
       "      <td>NaN</td>\n",
       "      <td>...</td>\n",
       "      <td>Married</td>\n",
       "      <td>27763</td>\n",
       "      <td>0</td>\n",
       "      <td>No</td>\n",
       "      <td>2021-09-05</td>\n",
       "      <td>No</td>\n",
       "      <td>1</td>\n",
       "      <td>0</td>\n",
       "      <td>1</td>\n",
       "      <td>0</td>\n",
       "    </tr>\n",
       "    <tr>\n",
       "      <th>1</th>\n",
       "      <td>PR4067</td>\n",
       "      <td>005C-E0FB</td>\n",
       "      <td>6/17/2020</td>\n",
       "      <td>3.0</td>\n",
       "      <td>3.0</td>\n",
       "      <td>2.0</td>\n",
       "      <td>1.0</td>\n",
       "      <td>2.0</td>\n",
       "      <td>2.0</td>\n",
       "      <td>4.0</td>\n",
       "      <td>...</td>\n",
       "      <td>Married</td>\n",
       "      <td>56155</td>\n",
       "      <td>1</td>\n",
       "      <td>No</td>\n",
       "      <td>2017-08-26</td>\n",
       "      <td>No</td>\n",
       "      <td>5</td>\n",
       "      <td>2</td>\n",
       "      <td>2</td>\n",
       "      <td>0</td>\n",
       "    </tr>\n",
       "    <tr>\n",
       "      <th>2</th>\n",
       "      <td>PR5070</td>\n",
       "      <td>005C-E0FB</td>\n",
       "      <td>6/17/2021</td>\n",
       "      <td>4.0</td>\n",
       "      <td>4.0</td>\n",
       "      <td>5.0</td>\n",
       "      <td>1.0</td>\n",
       "      <td>1.0</td>\n",
       "      <td>5.0</td>\n",
       "      <td>3.0</td>\n",
       "      <td>...</td>\n",
       "      <td>Married</td>\n",
       "      <td>56155</td>\n",
       "      <td>1</td>\n",
       "      <td>No</td>\n",
       "      <td>2017-08-26</td>\n",
       "      <td>No</td>\n",
       "      <td>5</td>\n",
       "      <td>2</td>\n",
       "      <td>2</td>\n",
       "      <td>0</td>\n",
       "    </tr>\n",
       "    <tr>\n",
       "      <th>3</th>\n",
       "      <td>PR6165</td>\n",
       "      <td>005C-E0FB</td>\n",
       "      <td>6/17/2022</td>\n",
       "      <td>3.0</td>\n",
       "      <td>4.0</td>\n",
       "      <td>5.0</td>\n",
       "      <td>3.0</td>\n",
       "      <td>0.0</td>\n",
       "      <td>4.0</td>\n",
       "      <td>4.0</td>\n",
       "      <td>...</td>\n",
       "      <td>Married</td>\n",
       "      <td>56155</td>\n",
       "      <td>1</td>\n",
       "      <td>No</td>\n",
       "      <td>2017-08-26</td>\n",
       "      <td>No</td>\n",
       "      <td>5</td>\n",
       "      <td>2</td>\n",
       "      <td>2</td>\n",
       "      <td>0</td>\n",
       "    </tr>\n",
       "    <tr>\n",
       "      <th>4</th>\n",
       "      <td>PR1165</td>\n",
       "      <td>00A3-2445</td>\n",
       "      <td>6/19/2016</td>\n",
       "      <td>4.0</td>\n",
       "      <td>5.0</td>\n",
       "      <td>4.0</td>\n",
       "      <td>2.0</td>\n",
       "      <td>2.0</td>\n",
       "      <td>5.0</td>\n",
       "      <td>4.0</td>\n",
       "      <td>...</td>\n",
       "      <td>Married</td>\n",
       "      <td>126238</td>\n",
       "      <td>0</td>\n",
       "      <td>No</td>\n",
       "      <td>2012-03-08</td>\n",
       "      <td>No</td>\n",
       "      <td>10</td>\n",
       "      <td>3</td>\n",
       "      <td>6</td>\n",
       "      <td>6</td>\n",
       "    </tr>\n",
       "  </tbody>\n",
       "</table>\n",
       "<p>5 rows × 33 columns</p>\n",
       "</div>"
      ],
      "text/plain": [
       "  Performance ID Employee ID Review Date  Environment Satisfaction  \\\n",
       "0            NaN   001A-8F88         NaN                       NaN   \n",
       "1         PR4067   005C-E0FB   6/17/2020                       3.0   \n",
       "2         PR5070   005C-E0FB   6/17/2021                       4.0   \n",
       "3         PR6165   005C-E0FB   6/17/2022                       3.0   \n",
       "4         PR1165   00A3-2445   6/19/2016                       4.0   \n",
       "\n",
       "   Job Satisfaction  Relationship Satisfaction  \\\n",
       "0               NaN                        NaN   \n",
       "1               3.0                        2.0   \n",
       "2               4.0                        5.0   \n",
       "3               4.0                        5.0   \n",
       "4               5.0                        4.0   \n",
       "\n",
       "   Training Opportunities With in Year  Training Opportunities Taken  \\\n",
       "0                                  NaN                           NaN   \n",
       "1                                  1.0                           2.0   \n",
       "2                                  1.0                           1.0   \n",
       "3                                  3.0                           0.0   \n",
       "4                                  2.0                           2.0   \n",
       "\n",
       "   Work-Life Balance  Self Rating  ...  Marital Status  Salary  \\\n",
       "0                NaN          NaN  ...         Married   27763   \n",
       "1                2.0          4.0  ...         Married   56155   \n",
       "2                5.0          3.0  ...         Married   56155   \n",
       "3                4.0          4.0  ...         Married   56155   \n",
       "4                5.0          4.0  ...         Married  126238   \n",
       "\n",
       "  Stock Option Level Over Time   Hire Date Attrition Years At Company  \\\n",
       "0                  0        No  2021-09-05        No                1   \n",
       "1                  1        No  2017-08-26        No                5   \n",
       "2                  1        No  2017-08-26        No                5   \n",
       "3                  1        No  2017-08-26        No                5   \n",
       "4                  0        No  2012-03-08        No               10   \n",
       "\n",
       "   Years In Most Recent Role Years Since Last Promotion  \\\n",
       "0                          0                          1   \n",
       "1                          2                          2   \n",
       "2                          2                          2   \n",
       "3                          2                          2   \n",
       "4                          3                          6   \n",
       "\n",
       "  Years With Current Manager  \n",
       "0                          0  \n",
       "1                          0  \n",
       "2                          0  \n",
       "3                          0  \n",
       "4                          6  \n",
       "\n",
       "[5 rows x 33 columns]"
      ]
     },
     "execution_count": 195,
     "metadata": {},
     "output_type": "execute_result"
    }
   ],
   "source": [
    "merged_df.info()\n",
    "merged_df.head()"
   ]
  },
  {
   "cell_type": "markdown",
   "metadata": {},
   "source": [
    "Count the number of null values in merged dataframe."
   ]
  },
  {
   "cell_type": "code",
   "execution_count": 196,
   "metadata": {},
   "outputs": [
    {
     "name": "stdout",
     "output_type": "stream",
     "text": [
      "190\n"
     ]
    }
   ],
   "source": [
    "NullCells = merged_df['Performance ID'].isnull().sum()\n",
    "print(NullCells)"
   ]
  },
  {
   "cell_type": "markdown",
   "metadata": {},
   "source": [
    "Out of 1470 employees, 190 don't have performance data, and 1280 that do."
   ]
  },
  {
   "cell_type": "markdown",
   "metadata": {},
   "source": [
    "Chart histogram with employees who left and who stayed using Attrition (Yes/No) to create 2 data frames to compare."
   ]
  },
  {
   "cell_type": "code",
   "execution_count": 197,
   "metadata": {},
   "outputs": [
    {
     "data": {
      "text/html": [
       "<div>\n",
       "<style scoped>\n",
       "    .dataframe tbody tr th:only-of-type {\n",
       "        vertical-align: middle;\n",
       "    }\n",
       "\n",
       "    .dataframe tbody tr th {\n",
       "        vertical-align: top;\n",
       "    }\n",
       "\n",
       "    .dataframe thead th {\n",
       "        text-align: right;\n",
       "    }\n",
       "</style>\n",
       "<table border=\"1\" class=\"dataframe\">\n",
       "  <thead>\n",
       "    <tr style=\"text-align: right;\">\n",
       "      <th></th>\n",
       "      <th>Performance ID</th>\n",
       "      <th>Employee ID</th>\n",
       "      <th>Review Date</th>\n",
       "      <th>Environment Satisfaction</th>\n",
       "      <th>Job Satisfaction</th>\n",
       "      <th>Relationship Satisfaction</th>\n",
       "      <th>Training Opportunities With in Year</th>\n",
       "      <th>Training Opportunities Taken</th>\n",
       "      <th>Work-Life Balance</th>\n",
       "      <th>Self Rating</th>\n",
       "      <th>...</th>\n",
       "      <th>Marital Status</th>\n",
       "      <th>Salary</th>\n",
       "      <th>Stock Option Level</th>\n",
       "      <th>Over Time</th>\n",
       "      <th>Hire Date</th>\n",
       "      <th>Attrition</th>\n",
       "      <th>Years At Company</th>\n",
       "      <th>Years In Most Recent Role</th>\n",
       "      <th>Years Since Last Promotion</th>\n",
       "      <th>Years With Current Manager</th>\n",
       "    </tr>\n",
       "  </thead>\n",
       "  <tbody>\n",
       "    <tr>\n",
       "      <th>12</th>\n",
       "      <td>PR1123</td>\n",
       "      <td>00B0-F199</td>\n",
       "      <td>5/21/2016</td>\n",
       "      <td>3.0</td>\n",
       "      <td>3.0</td>\n",
       "      <td>5.0</td>\n",
       "      <td>3.0</td>\n",
       "      <td>2.0</td>\n",
       "      <td>5.0</td>\n",
       "      <td>5.0</td>\n",
       "      <td>...</td>\n",
       "      <td>Married</td>\n",
       "      <td>97824</td>\n",
       "      <td>1</td>\n",
       "      <td>Yes</td>\n",
       "      <td>2020-03-16</td>\n",
       "      <td>Yes</td>\n",
       "      <td>1</td>\n",
       "      <td>0</td>\n",
       "      <td>1</td>\n",
       "      <td>0</td>\n",
       "    </tr>\n",
       "    <tr>\n",
       "      <th>13</th>\n",
       "      <td>PR1678</td>\n",
       "      <td>00B0-F199</td>\n",
       "      <td>5/21/2017</td>\n",
       "      <td>4.0</td>\n",
       "      <td>3.0</td>\n",
       "      <td>4.0</td>\n",
       "      <td>2.0</td>\n",
       "      <td>0.0</td>\n",
       "      <td>2.0</td>\n",
       "      <td>4.0</td>\n",
       "      <td>...</td>\n",
       "      <td>Married</td>\n",
       "      <td>97824</td>\n",
       "      <td>1</td>\n",
       "      <td>Yes</td>\n",
       "      <td>2020-03-16</td>\n",
       "      <td>Yes</td>\n",
       "      <td>1</td>\n",
       "      <td>0</td>\n",
       "      <td>1</td>\n",
       "      <td>0</td>\n",
       "    </tr>\n",
       "    <tr>\n",
       "      <th>14</th>\n",
       "      <td>PR2339</td>\n",
       "      <td>00B0-F199</td>\n",
       "      <td>5/21/2018</td>\n",
       "      <td>3.0</td>\n",
       "      <td>4.0</td>\n",
       "      <td>4.0</td>\n",
       "      <td>2.0</td>\n",
       "      <td>1.0</td>\n",
       "      <td>3.0</td>\n",
       "      <td>3.0</td>\n",
       "      <td>...</td>\n",
       "      <td>Married</td>\n",
       "      <td>97824</td>\n",
       "      <td>1</td>\n",
       "      <td>Yes</td>\n",
       "      <td>2020-03-16</td>\n",
       "      <td>Yes</td>\n",
       "      <td>1</td>\n",
       "      <td>0</td>\n",
       "      <td>1</td>\n",
       "      <td>0</td>\n",
       "    </tr>\n",
       "    <tr>\n",
       "      <th>15</th>\n",
       "      <td>PR3099</td>\n",
       "      <td>00B0-F199</td>\n",
       "      <td>5/21/2019</td>\n",
       "      <td>5.0</td>\n",
       "      <td>4.0</td>\n",
       "      <td>3.0</td>\n",
       "      <td>3.0</td>\n",
       "      <td>3.0</td>\n",
       "      <td>5.0</td>\n",
       "      <td>4.0</td>\n",
       "      <td>...</td>\n",
       "      <td>Married</td>\n",
       "      <td>97824</td>\n",
       "      <td>1</td>\n",
       "      <td>Yes</td>\n",
       "      <td>2020-03-16</td>\n",
       "      <td>Yes</td>\n",
       "      <td>1</td>\n",
       "      <td>0</td>\n",
       "      <td>1</td>\n",
       "      <td>0</td>\n",
       "    </tr>\n",
       "    <tr>\n",
       "      <th>16</th>\n",
       "      <td>PR342</td>\n",
       "      <td>00B0-F199</td>\n",
       "      <td>5/22/2014</td>\n",
       "      <td>3.0</td>\n",
       "      <td>5.0</td>\n",
       "      <td>3.0</td>\n",
       "      <td>1.0</td>\n",
       "      <td>3.0</td>\n",
       "      <td>2.0</td>\n",
       "      <td>3.0</td>\n",
       "      <td>...</td>\n",
       "      <td>Married</td>\n",
       "      <td>97824</td>\n",
       "      <td>1</td>\n",
       "      <td>Yes</td>\n",
       "      <td>2020-03-16</td>\n",
       "      <td>Yes</td>\n",
       "      <td>1</td>\n",
       "      <td>0</td>\n",
       "      <td>1</td>\n",
       "      <td>0</td>\n",
       "    </tr>\n",
       "  </tbody>\n",
       "</table>\n",
       "<p>5 rows × 33 columns</p>\n",
       "</div>"
      ],
      "text/plain": [
       "   Performance ID Employee ID Review Date  Environment Satisfaction  \\\n",
       "12         PR1123   00B0-F199   5/21/2016                       3.0   \n",
       "13         PR1678   00B0-F199   5/21/2017                       4.0   \n",
       "14         PR2339   00B0-F199   5/21/2018                       3.0   \n",
       "15         PR3099   00B0-F199   5/21/2019                       5.0   \n",
       "16          PR342   00B0-F199   5/22/2014                       3.0   \n",
       "\n",
       "    Job Satisfaction  Relationship Satisfaction  \\\n",
       "12               3.0                        5.0   \n",
       "13               3.0                        4.0   \n",
       "14               4.0                        4.0   \n",
       "15               4.0                        3.0   \n",
       "16               5.0                        3.0   \n",
       "\n",
       "    Training Opportunities With in Year  Training Opportunities Taken  \\\n",
       "12                                  3.0                           2.0   \n",
       "13                                  2.0                           0.0   \n",
       "14                                  2.0                           1.0   \n",
       "15                                  3.0                           3.0   \n",
       "16                                  1.0                           3.0   \n",
       "\n",
       "    Work-Life Balance  Self Rating  ...  Marital Status Salary  \\\n",
       "12                5.0          5.0  ...         Married  97824   \n",
       "13                2.0          4.0  ...         Married  97824   \n",
       "14                3.0          3.0  ...         Married  97824   \n",
       "15                5.0          4.0  ...         Married  97824   \n",
       "16                2.0          3.0  ...         Married  97824   \n",
       "\n",
       "   Stock Option Level Over Time   Hire Date Attrition Years At Company  \\\n",
       "12                  1       Yes  2020-03-16       Yes                1   \n",
       "13                  1       Yes  2020-03-16       Yes                1   \n",
       "14                  1       Yes  2020-03-16       Yes                1   \n",
       "15                  1       Yes  2020-03-16       Yes                1   \n",
       "16                  1       Yes  2020-03-16       Yes                1   \n",
       "\n",
       "    Years In Most Recent Role Years Since Last Promotion  \\\n",
       "12                          0                          1   \n",
       "13                          0                          1   \n",
       "14                          0                          1   \n",
       "15                          0                          1   \n",
       "16                          0                          1   \n",
       "\n",
       "   Years With Current Manager  \n",
       "12                          0  \n",
       "13                          0  \n",
       "14                          0  \n",
       "15                          0  \n",
       "16                          0  \n",
       "\n",
       "[5 rows x 33 columns]"
      ]
     },
     "execution_count": 197,
     "metadata": {},
     "output_type": "execute_result"
    }
   ],
   "source": [
    "# DataFrame of employees that left.\n",
    "df_left = merged_df[merged_df['Attrition'] == 'Yes']\n",
    "df_left.head()"
   ]
  },
  {
   "cell_type": "code",
   "execution_count": 198,
   "metadata": {},
   "outputs": [
    {
     "data": {
      "text/html": [
       "<div>\n",
       "<style scoped>\n",
       "    .dataframe tbody tr th:only-of-type {\n",
       "        vertical-align: middle;\n",
       "    }\n",
       "\n",
       "    .dataframe tbody tr th {\n",
       "        vertical-align: top;\n",
       "    }\n",
       "\n",
       "    .dataframe thead th {\n",
       "        text-align: right;\n",
       "    }\n",
       "</style>\n",
       "<table border=\"1\" class=\"dataframe\">\n",
       "  <thead>\n",
       "    <tr style=\"text-align: right;\">\n",
       "      <th></th>\n",
       "      <th>Performance ID</th>\n",
       "      <th>Employee ID</th>\n",
       "      <th>Review Date</th>\n",
       "      <th>Environment Satisfaction</th>\n",
       "      <th>Job Satisfaction</th>\n",
       "      <th>Relationship Satisfaction</th>\n",
       "      <th>Training Opportunities With in Year</th>\n",
       "      <th>Training Opportunities Taken</th>\n",
       "      <th>Work-Life Balance</th>\n",
       "      <th>Self Rating</th>\n",
       "      <th>...</th>\n",
       "      <th>Marital Status</th>\n",
       "      <th>Salary</th>\n",
       "      <th>Stock Option Level</th>\n",
       "      <th>Over Time</th>\n",
       "      <th>Hire Date</th>\n",
       "      <th>Attrition</th>\n",
       "      <th>Years At Company</th>\n",
       "      <th>Years In Most Recent Role</th>\n",
       "      <th>Years Since Last Promotion</th>\n",
       "      <th>Years With Current Manager</th>\n",
       "    </tr>\n",
       "  </thead>\n",
       "  <tbody>\n",
       "    <tr>\n",
       "      <th>0</th>\n",
       "      <td>NaN</td>\n",
       "      <td>001A-8F88</td>\n",
       "      <td>NaN</td>\n",
       "      <td>NaN</td>\n",
       "      <td>NaN</td>\n",
       "      <td>NaN</td>\n",
       "      <td>NaN</td>\n",
       "      <td>NaN</td>\n",
       "      <td>NaN</td>\n",
       "      <td>NaN</td>\n",
       "      <td>...</td>\n",
       "      <td>Married</td>\n",
       "      <td>27763</td>\n",
       "      <td>0</td>\n",
       "      <td>No</td>\n",
       "      <td>2021-09-05</td>\n",
       "      <td>No</td>\n",
       "      <td>1</td>\n",
       "      <td>0</td>\n",
       "      <td>1</td>\n",
       "      <td>0</td>\n",
       "    </tr>\n",
       "    <tr>\n",
       "      <th>1</th>\n",
       "      <td>PR4067</td>\n",
       "      <td>005C-E0FB</td>\n",
       "      <td>6/17/2020</td>\n",
       "      <td>3.0</td>\n",
       "      <td>3.0</td>\n",
       "      <td>2.0</td>\n",
       "      <td>1.0</td>\n",
       "      <td>2.0</td>\n",
       "      <td>2.0</td>\n",
       "      <td>4.0</td>\n",
       "      <td>...</td>\n",
       "      <td>Married</td>\n",
       "      <td>56155</td>\n",
       "      <td>1</td>\n",
       "      <td>No</td>\n",
       "      <td>2017-08-26</td>\n",
       "      <td>No</td>\n",
       "      <td>5</td>\n",
       "      <td>2</td>\n",
       "      <td>2</td>\n",
       "      <td>0</td>\n",
       "    </tr>\n",
       "    <tr>\n",
       "      <th>2</th>\n",
       "      <td>PR5070</td>\n",
       "      <td>005C-E0FB</td>\n",
       "      <td>6/17/2021</td>\n",
       "      <td>4.0</td>\n",
       "      <td>4.0</td>\n",
       "      <td>5.0</td>\n",
       "      <td>1.0</td>\n",
       "      <td>1.0</td>\n",
       "      <td>5.0</td>\n",
       "      <td>3.0</td>\n",
       "      <td>...</td>\n",
       "      <td>Married</td>\n",
       "      <td>56155</td>\n",
       "      <td>1</td>\n",
       "      <td>No</td>\n",
       "      <td>2017-08-26</td>\n",
       "      <td>No</td>\n",
       "      <td>5</td>\n",
       "      <td>2</td>\n",
       "      <td>2</td>\n",
       "      <td>0</td>\n",
       "    </tr>\n",
       "    <tr>\n",
       "      <th>3</th>\n",
       "      <td>PR6165</td>\n",
       "      <td>005C-E0FB</td>\n",
       "      <td>6/17/2022</td>\n",
       "      <td>3.0</td>\n",
       "      <td>4.0</td>\n",
       "      <td>5.0</td>\n",
       "      <td>3.0</td>\n",
       "      <td>0.0</td>\n",
       "      <td>4.0</td>\n",
       "      <td>4.0</td>\n",
       "      <td>...</td>\n",
       "      <td>Married</td>\n",
       "      <td>56155</td>\n",
       "      <td>1</td>\n",
       "      <td>No</td>\n",
       "      <td>2017-08-26</td>\n",
       "      <td>No</td>\n",
       "      <td>5</td>\n",
       "      <td>2</td>\n",
       "      <td>2</td>\n",
       "      <td>0</td>\n",
       "    </tr>\n",
       "    <tr>\n",
       "      <th>4</th>\n",
       "      <td>PR1165</td>\n",
       "      <td>00A3-2445</td>\n",
       "      <td>6/19/2016</td>\n",
       "      <td>4.0</td>\n",
       "      <td>5.0</td>\n",
       "      <td>4.0</td>\n",
       "      <td>2.0</td>\n",
       "      <td>2.0</td>\n",
       "      <td>5.0</td>\n",
       "      <td>4.0</td>\n",
       "      <td>...</td>\n",
       "      <td>Married</td>\n",
       "      <td>126238</td>\n",
       "      <td>0</td>\n",
       "      <td>No</td>\n",
       "      <td>2012-03-08</td>\n",
       "      <td>No</td>\n",
       "      <td>10</td>\n",
       "      <td>3</td>\n",
       "      <td>6</td>\n",
       "      <td>6</td>\n",
       "    </tr>\n",
       "  </tbody>\n",
       "</table>\n",
       "<p>5 rows × 33 columns</p>\n",
       "</div>"
      ],
      "text/plain": [
       "  Performance ID Employee ID Review Date  Environment Satisfaction  \\\n",
       "0            NaN   001A-8F88         NaN                       NaN   \n",
       "1         PR4067   005C-E0FB   6/17/2020                       3.0   \n",
       "2         PR5070   005C-E0FB   6/17/2021                       4.0   \n",
       "3         PR6165   005C-E0FB   6/17/2022                       3.0   \n",
       "4         PR1165   00A3-2445   6/19/2016                       4.0   \n",
       "\n",
       "   Job Satisfaction  Relationship Satisfaction  \\\n",
       "0               NaN                        NaN   \n",
       "1               3.0                        2.0   \n",
       "2               4.0                        5.0   \n",
       "3               4.0                        5.0   \n",
       "4               5.0                        4.0   \n",
       "\n",
       "   Training Opportunities With in Year  Training Opportunities Taken  \\\n",
       "0                                  NaN                           NaN   \n",
       "1                                  1.0                           2.0   \n",
       "2                                  1.0                           1.0   \n",
       "3                                  3.0                           0.0   \n",
       "4                                  2.0                           2.0   \n",
       "\n",
       "   Work-Life Balance  Self Rating  ...  Marital Status  Salary  \\\n",
       "0                NaN          NaN  ...         Married   27763   \n",
       "1                2.0          4.0  ...         Married   56155   \n",
       "2                5.0          3.0  ...         Married   56155   \n",
       "3                4.0          4.0  ...         Married   56155   \n",
       "4                5.0          4.0  ...         Married  126238   \n",
       "\n",
       "  Stock Option Level Over Time   Hire Date Attrition Years At Company  \\\n",
       "0                  0        No  2021-09-05        No                1   \n",
       "1                  1        No  2017-08-26        No                5   \n",
       "2                  1        No  2017-08-26        No                5   \n",
       "3                  1        No  2017-08-26        No                5   \n",
       "4                  0        No  2012-03-08        No               10   \n",
       "\n",
       "   Years In Most Recent Role Years Since Last Promotion  \\\n",
       "0                          0                          1   \n",
       "1                          2                          2   \n",
       "2                          2                          2   \n",
       "3                          2                          2   \n",
       "4                          3                          6   \n",
       "\n",
       "  Years With Current Manager  \n",
       "0                          0  \n",
       "1                          0  \n",
       "2                          0  \n",
       "3                          0  \n",
       "4                          6  \n",
       "\n",
       "[5 rows x 33 columns]"
      ]
     },
     "execution_count": 198,
     "metadata": {},
     "output_type": "execute_result"
    }
   ],
   "source": [
    "# DataFrame of employees that stayed.\n",
    "df_sty = merged_df[merged_df['Attrition'] == 'No']\n",
    "df_sty.head()"
   ]
  },
  {
   "cell_type": "markdown",
   "metadata": {},
   "source": [
    "Histogram showing Environment Satisfaction of Employees that left."
   ]
  },
  {
   "cell_type": "code",
   "execution_count": 199,
   "metadata": {},
   "outputs": [
    {
     "data": {
      "text/plain": [
       "DeltaGenerator()"
      ]
     },
     "execution_count": 199,
     "metadata": {},
     "output_type": "execute_result"
    }
   ],
   "source": [
    "# Create histogram\n",
    "plt.hist(df_left['Environment Satisfaction'], bins=5, edgecolor='black')\n",
    "\n",
    "# Add labels and title\n",
    "plt.xlabel('Environment Satisfaction')\n",
    "plt.ylabel('Employees')\n",
    "plt.title('Environment Satisfaction of Employees that left')\n",
    "\n",
    "# Show the plot\n",
    "plt.show()\n",
    "\n",
    "# Show the plot in Streamlit\n",
    "st.pyplot(plt)"
   ]
  },
  {
   "cell_type": "markdown",
   "metadata": {},
   "source": [
    "Histogram showing Environment Satisfaction of Employees that stayed."
   ]
  },
  {
   "cell_type": "code",
   "execution_count": 200,
   "metadata": {},
   "outputs": [
    {
     "data": {
      "text/plain": [
       "DeltaGenerator()"
      ]
     },
     "execution_count": 200,
     "metadata": {},
     "output_type": "execute_result"
    }
   ],
   "source": [
    "# Create histogram\n",
    "plt.hist(df_sty['Environment Satisfaction'], bins=5, edgecolor='black')\n",
    "\n",
    "# Add labels and title\n",
    "plt.xlabel('Environment Satisfaction')\n",
    "plt.ylabel('Employees')\n",
    "plt.title('Environment Satisfaction of Employees that stayed')\n",
    "\n",
    "# Show the plot\n",
    "plt.show()\n",
    "\n",
    "# Show the plot in Streamlit\n",
    "st.pyplot(plt)"
   ]
  },
  {
   "cell_type": "markdown",
   "metadata": {},
   "source": [
    "## It looks like Environment Satisfaction skews high amongst employees who left and stayed."
   ]
  },
  {
   "cell_type": "markdown",
   "metadata": {},
   "source": [
    "Histogram showing Job Satisfaction of Employees that left."
   ]
  },
  {
   "cell_type": "code",
   "execution_count": 201,
   "metadata": {},
   "outputs": [
    {
     "data": {
      "text/plain": [
       "DeltaGenerator()"
      ]
     },
     "execution_count": 201,
     "metadata": {},
     "output_type": "execute_result"
    }
   ],
   "source": [
    "# Create histogram\n",
    "plt.hist(df_left['Job Satisfaction'], bins=5, edgecolor='black')\n",
    "\n",
    "# Add labels and title\n",
    "plt.xlabel('Job Satisfaction')\n",
    "plt.ylabel('Employees')\n",
    "plt.title('Job Satisfaction of Employees that left')\n",
    "\n",
    "# Show the plot\n",
    "plt.show()\n",
    "\n",
    "# Show the plot in Streamlit\n",
    "st.pyplot(plt)"
   ]
  },
  {
   "cell_type": "markdown",
   "metadata": {},
   "source": [
    "Histogram showing Job Satisfaction of Employees that stayed."
   ]
  },
  {
   "cell_type": "code",
   "execution_count": 202,
   "metadata": {},
   "outputs": [
    {
     "data": {
      "text/plain": [
       "DeltaGenerator()"
      ]
     },
     "execution_count": 202,
     "metadata": {},
     "output_type": "execute_result"
    }
   ],
   "source": [
    "# Create histogram\n",
    "plt.hist(df_sty['Job Satisfaction'], bins=5, edgecolor='black')\n",
    "\n",
    "# Add labels and title\n",
    "plt.xlabel('Job Satisfaction')\n",
    "plt.ylabel('Employees')\n",
    "plt.title('Job Satisfaction of Employees that stayed')\n",
    "\n",
    "# Show the plot\n",
    "plt.show()\n",
    "\n",
    "# Show the plot in Streamlit\n",
    "st.pyplot(plt)"
   ]
  },
  {
   "cell_type": "markdown",
   "metadata": {},
   "source": [
    "## Job Satisfaction skews high amongst employees who left and stayed as well."
   ]
  },
  {
   "cell_type": "markdown",
   "metadata": {},
   "source": [
    "Histogram showing Relationship Satisfaction of Employees that left."
   ]
  },
  {
   "cell_type": "code",
   "execution_count": 203,
   "metadata": {},
   "outputs": [
    {
     "data": {
      "text/plain": [
       "DeltaGenerator()"
      ]
     },
     "execution_count": 203,
     "metadata": {},
     "output_type": "execute_result"
    }
   ],
   "source": [
    "# Create histogram\n",
    "plt.hist(df_left['Relationship Satisfaction'], bins=5, edgecolor='black')\n",
    "\n",
    "# Add labels and title\n",
    "plt.xlabel('Relationship Satisfaction')\n",
    "plt.ylabel('Employees')\n",
    "plt.title('Relationship Satisfaction of Employees that left')\n",
    "\n",
    "# Show the plot\n",
    "plt.show()\n",
    "\n",
    "# Show the plot in Streamlit\n",
    "st.pyplot(plt)"
   ]
  },
  {
   "cell_type": "markdown",
   "metadata": {},
   "source": [
    "Histogram showing Relationship Satisfaction of Employees that stayed."
   ]
  },
  {
   "cell_type": "code",
   "execution_count": 204,
   "metadata": {},
   "outputs": [
    {
     "data": {
      "text/plain": [
       "DeltaGenerator()"
      ]
     },
     "execution_count": 204,
     "metadata": {},
     "output_type": "execute_result"
    }
   ],
   "source": [
    "# Create histogram\n",
    "plt.hist(df_sty['Relationship Satisfaction'], bins=5, edgecolor='black')\n",
    "\n",
    "# Add labels and title\n",
    "plt.xlabel('Relationship Satisfaction')\n",
    "plt.ylabel('Employees')\n",
    "plt.title('Relationship Satisfaction of Employees that stayed')\n",
    "\n",
    "# Show the plot\n",
    "plt.show()\n",
    "\n",
    "# Show the plot in Streamlit\n",
    "st.pyplot(plt)"
   ]
  },
  {
   "cell_type": "markdown",
   "metadata": {},
   "source": [
    "## Across all 3 Satisfaction Criteria employees who left and stayed similarly skew high."
   ]
  },
  {
   "cell_type": "markdown",
   "metadata": {},
   "source": [
    "Histogram showing the number of years since employees were promoted from Employees that left."
   ]
  },
  {
   "cell_type": "code",
   "execution_count": 205,
   "metadata": {},
   "outputs": [
    {
     "name": "stdout",
     "output_type": "stream",
     "text": [
      "9\n"
     ]
    }
   ],
   "source": [
    "max_num_yrs = df_left['Years Since Last Promotion'].max()\n",
    "print(max_num_yrs)"
   ]
  },
  {
   "cell_type": "code",
   "execution_count": 206,
   "metadata": {},
   "outputs": [
    {
     "data": {
      "text/plain": [
       "DeltaGenerator()"
      ]
     },
     "execution_count": 206,
     "metadata": {},
     "output_type": "execute_result"
    }
   ],
   "source": [
    "# Create histogram\n",
    "plt.hist(df_left['Years Since Last Promotion'], bins=9, edgecolor='black')\n",
    "\n",
    "# Add labels and title\n",
    "plt.xlabel('Years Since Last Promotion')\n",
    "plt.ylabel('Employees')\n",
    "plt.title('Years Since Last Promotion of Employees that left')\n",
    "\n",
    "# Show the plot\n",
    "plt.show()\n",
    "\n",
    "# Show the plot in Streamlit\n",
    "st.pyplot(plt)"
   ]
  },
  {
   "cell_type": "markdown",
   "metadata": {},
   "source": [
    "Histogram showing the number of years since employees were promoted from Employees that stayed."
   ]
  },
  {
   "cell_type": "code",
   "execution_count": 207,
   "metadata": {},
   "outputs": [
    {
     "name": "stdout",
     "output_type": "stream",
     "text": [
      "10\n"
     ]
    }
   ],
   "source": [
    "max_num_yrs = df_sty['Years Since Last Promotion'].max()\n",
    "print(max_num_yrs)"
   ]
  },
  {
   "cell_type": "code",
   "execution_count": 208,
   "metadata": {},
   "outputs": [
    {
     "data": {
      "text/plain": [
       "DeltaGenerator()"
      ]
     },
     "execution_count": 208,
     "metadata": {},
     "output_type": "execute_result"
    }
   ],
   "source": [
    "# Create histogram\n",
    "plt.hist(df_sty['Years Since Last Promotion'], bins=10, edgecolor='black')\n",
    "\n",
    "# Add labels and title\n",
    "plt.xlabel('Years Since Last Promotion')\n",
    "plt.ylabel('Employees')\n",
    "plt.title('Years Since Last Promotion of Employees that stayed')\n",
    "\n",
    "# Show the plot\n",
    "plt.show()\n",
    "\n",
    "# Show the plot in Streamlit\n",
    "st.pyplot(plt)"
   ]
  },
  {
   "cell_type": "markdown",
   "metadata": {},
   "source": [
    "## It seems like the employees who were promoted less than a year before left the company. As opposed to those who had more years since their last promotion."
   ]
  },
  {
   "cell_type": "code",
   "execution_count": 211,
   "metadata": {},
   "outputs": [
    {
     "name": "stdout",
     "output_type": "stream",
     "text": [
      "5.0\n"
     ]
    }
   ],
   "source": [
    "max_num_yrs = df_left['Self Rating'].max()\n",
    "print(max_num_yrs)"
   ]
  },
  {
   "cell_type": "code",
   "execution_count": 215,
   "metadata": {},
   "outputs": [
    {
     "data": {
      "text/plain": [
       "DeltaGenerator()"
      ]
     },
     "execution_count": 215,
     "metadata": {},
     "output_type": "execute_result"
    }
   ],
   "source": [
    "# Create histogram\n",
    "plt.hist(df_left['Self Rating'], bins=5, edgecolor='black')\n",
    "\n",
    "# Add labels and title\n",
    "plt.xlabel('Employee Self Rating')\n",
    "plt.ylabel('Employees')\n",
    "plt.title('Self Ratings of Employees that left')\n",
    "\n",
    "# Show the plot\n",
    "plt.show()\n",
    "\n",
    "# Show the plot in Streamlit\n",
    "st.pyplot(plt)"
   ]
  },
  {
   "cell_type": "code",
   "execution_count": 216,
   "metadata": {},
   "outputs": [
    {
     "data": {
      "text/plain": [
       "DeltaGenerator()"
      ]
     },
     "execution_count": 216,
     "metadata": {},
     "output_type": "execute_result"
    }
   ],
   "source": [
    "# Create histogram\n",
    "plt.hist(df_sty['Self Rating'], bins=5, edgecolor='black')\n",
    "\n",
    "# Add labels and title\n",
    "plt.xlabel('Employee Self Rating')\n",
    "plt.ylabel('Employees')\n",
    "plt.title('Self Ratings of Employees that stayed')\n",
    "\n",
    "# Show the plot\n",
    "plt.show()\n",
    "\n",
    "# Show the plot in Streamlit\n",
    "st.pyplot(plt)"
   ]
  },
  {
   "cell_type": "markdown",
   "metadata": {},
   "source": [
    "## No big differences in employee self ratings between those who left and those who stayed."
   ]
  },
  {
   "cell_type": "code",
   "execution_count": 218,
   "metadata": {},
   "outputs": [
    {
     "name": "stdout",
     "output_type": "stream",
     "text": [
      "5.0\n"
     ]
    }
   ],
   "source": [
    "max_num_yrs = df_sty['Manager Rating'].max()\n",
    "print(max_num_yrs)"
   ]
  },
  {
   "cell_type": "code",
   "execution_count": 223,
   "metadata": {},
   "outputs": [
    {
     "data": {
      "text/plain": [
       "DeltaGenerator()"
      ]
     },
     "execution_count": 223,
     "metadata": {},
     "output_type": "execute_result"
    }
   ],
   "source": [
    "# Create histogram\n",
    "plt.hist(df_left['Manager Rating'], bins=5, edgecolor='black')\n",
    "\n",
    "# Add labels and title\n",
    "plt.xlabel('Manager Rating')\n",
    "plt.ylabel('Employees')\n",
    "plt.title('Manager Ratings of Employees that left')\n",
    "\n",
    "# Show the plot\n",
    "plt.show()\n",
    "\n",
    "# Show the plot in Streamlit\n",
    "st.pyplot(plt)"
   ]
  },
  {
   "cell_type": "code",
   "execution_count": 225,
   "metadata": {},
   "outputs": [
    {
     "data": {
      "text/plain": [
       "DeltaGenerator()"
      ]
     },
     "execution_count": 225,
     "metadata": {},
     "output_type": "execute_result"
    }
   ],
   "source": [
    "# Create histogram\n",
    "plt.hist(df_sty['Manager Rating'], bins=5, edgecolor='black')\n",
    "\n",
    "# Add labels and title\n",
    "plt.xlabel('Manager Rating')\n",
    "plt.ylabel('Employees')\n",
    "plt.title('Manager Ratings of Employees that stayed')\n",
    "\n",
    "# Show the plot\n",
    "plt.show()\n",
    "\n",
    "# Show the plot in Streamlit\n",
    "st.pyplot(plt)"
   ]
  },
  {
   "cell_type": "markdown",
   "metadata": {},
   "source": [
    "## Manager ratings were similar across both groups."
   ]
  },
  {
   "cell_type": "code",
   "execution_count": 232,
   "metadata": {},
   "outputs": [
    {
     "name": "stdout",
     "output_type": "stream",
     "text": [
      "5.0\n",
      "3.4201680672268906\n",
      "3.0\n"
     ]
    }
   ],
   "source": [
    "max = df_left['Work-Life Balance'].max()\n",
    "mean = df_left['Work-Life Balance'].mean()\n",
    "median = df_left['Work-Life Balance'].median()\n",
    "print(max)\n",
    "print(mean)\n",
    "print(median)"
   ]
  },
  {
   "cell_type": "code",
   "execution_count": 233,
   "metadata": {},
   "outputs": [
    {
     "name": "stdout",
     "output_type": "stream",
     "text": [
      "5.0\n",
      "3.411870503597122\n",
      "3.0\n"
     ]
    }
   ],
   "source": [
    "max = df_sty['Work-Life Balance'].max()\n",
    "mean = df_sty['Work-Life Balance'].mean()\n",
    "median = df_sty['Work-Life Balance'].median()\n",
    "print(max)\n",
    "print(mean)\n",
    "print(median)"
   ]
  },
  {
   "cell_type": "code",
   "execution_count": 228,
   "metadata": {},
   "outputs": [
    {
     "data": {
      "text/plain": [
       "DeltaGenerator()"
      ]
     },
     "execution_count": 228,
     "metadata": {},
     "output_type": "execute_result"
    }
   ],
   "source": [
    "# Create histogram\n",
    "plt.hist(df_left['Work-Life Balance'], bins=5, edgecolor='black')\n",
    "\n",
    "# Add labels and title\n",
    "plt.xlabel('Work-Life Balance')\n",
    "plt.ylabel('Employees')\n",
    "plt.title('Work-Life Balance of Employees that left')\n",
    "\n",
    "# Show the plot\n",
    "plt.show()\n",
    "\n",
    "# Show the plot in Streamlit\n",
    "st.pyplot(plt)"
   ]
  },
  {
   "cell_type": "code",
   "execution_count": 229,
   "metadata": {},
   "outputs": [
    {
     "data": {
      "text/plain": [
       "DeltaGenerator()"
      ]
     },
     "execution_count": 229,
     "metadata": {},
     "output_type": "execute_result"
    }
   ],
   "source": [
    "# Create histogram\n",
    "plt.hist(df_sty['Work-Life Balance'], bins=5, edgecolor='black')\n",
    "\n",
    "# Add labels and title\n",
    "plt.xlabel('Work-Life Balance')\n",
    "plt.ylabel('Employees')\n",
    "plt.title('Work-Life Balance of Employees that stayed')\n",
    "\n",
    "# Show the plot\n",
    "plt.show()\n",
    "\n",
    "# Show the plot in Streamlit\n",
    "st.pyplot(plt)"
   ]
  }
 ],
 "metadata": {
  "kernelspec": {
   "display_name": "base",
   "language": "python",
   "name": "python3"
  },
  "language_info": {
   "codemirror_mode": {
    "name": "ipython",
    "version": 3
   },
   "file_extension": ".py",
   "mimetype": "text/x-python",
   "name": "python",
   "nbconvert_exporter": "python",
   "pygments_lexer": "ipython3",
   "version": "3.12.4"
  }
 },
 "nbformat": 4,
 "nbformat_minor": 2
}
